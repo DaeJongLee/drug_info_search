{
 "cells": [
  {
   "cell_type": "code",
   "execution_count": 1,
   "metadata": {},
   "outputs": [
    {
     "name": "stdout",
     "output_type": "stream",
     "text": [
      "Database updated successfully!\n"
     ]
    }
   ],
   "source": [
    "import pandas as pd\n",
    "import sqlite3\n",
    "\n",
    "# 엑셀 파일 경로\n",
    "excel_file_path = '/Users/dj/Desktop/coding/projects/drug_info_reset/drug_info_search/의약품등제품정보목록.xlsx'\n",
    "\n",
    "# SQLite 데이터베이스 경로\n",
    "db_file_path = '/Users/dj/Desktop/coding/projects/drug_info_reset/drug_info_search/drug_info_search_db.db'\n",
    "\n",
    "# 데이터베이스 연결\n",
    "conn = sqlite3.connect(db_file_path)\n",
    "cursor = conn.cursor()\n",
    "\n",
    "# 엑셀 파일 읽기\n",
    "df = pd.read_excel(excel_file_path)\n",
    "\n",
    "# 테이블이 이미 존재하면 삭제\n",
    "cursor.execute('DROP TABLE IF EXISTS drug_info')\n",
    "\n",
    "# 데이터프레임을 데이터베이스에 쓰기\n",
    "df.to_sql('drug_info', conn, if_exists='replace', index=False)\n",
    "\n",
    "# 변경사항 커밋 및 연결 종료\n",
    "conn.commit()\n",
    "conn.close()\n",
    "\n",
    "print(\"Database updated successfully!\")\n",
    "\n"
   ]
  },
  {
   "cell_type": "code",
   "execution_count": 4,
   "metadata": {},
   "outputs": [
    {
     "data": {
      "text/plain": [
       "RangeIndex(start=0, stop=10000, step=1)"
      ]
     },
     "execution_count": 4,
     "metadata": {},
     "output_type": "execute_result"
    }
   ],
   "source": [
    "df.index"
   ]
  }
 ],
 "metadata": {
  "kernelspec": {
   "display_name": ".venv",
   "language": "python",
   "name": "python3"
  },
  "language_info": {
   "codemirror_mode": {
    "name": "ipython",
    "version": 3
   },
   "file_extension": ".py",
   "mimetype": "text/x-python",
   "name": "python",
   "nbconvert_exporter": "python",
   "pygments_lexer": "ipython3",
   "version": "3.12.3"
  }
 },
 "nbformat": 4,
 "nbformat_minor": 2
}
